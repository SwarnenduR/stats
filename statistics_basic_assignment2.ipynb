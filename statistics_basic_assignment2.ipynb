{
 "cells": [
  {
   "cell_type": "markdown",
   "id": "0b737dc0-3bf1-41f4-b742-c1263e2444f0",
   "metadata": {},
   "source": [
    "## Statistics Basic 2"
   ]
  },
  {
   "cell_type": "markdown",
   "id": "f44832be-f2b1-45e4-ad8a-e9f66c74d615",
   "metadata": {},
   "source": [
    "## Question 1"
   ]
  },
  {
   "cell_type": "markdown",
   "id": "9bd410ce-b383-4a74-aaa1-f7a1fe3f6c9c",
   "metadata": {},
   "source": [
    "### What are the three measures of central tendency?\n",
    "#### Mean, Median and Mode"
   ]
  },
  {
   "cell_type": "markdown",
   "id": "a4afed1b-025f-437d-a89b-1f317790d5ea",
   "metadata": {},
   "source": [
    "## Question 2"
   ]
  },
  {
   "cell_type": "markdown",
   "id": "68913b5c-a67f-413a-8794-680338fef3e9",
   "metadata": {},
   "source": [
    "### What is the difference between the mean, median, and mode? How are they used to measure the central tendency of a dataset?\n",
    "#### The mean (average) of a data set is found by adding all numbers in the data set and then dividing by the number of values in the set. The median is the middle value when a data set is ordered from least to greatest. The mode is the number that occurs most often in a data set.\n",
    "#### Mean: The mean represents the average value of the dataset. It can be calculated as the sum of all the values in the dataset divided by the number of values. In general, it is considered as the arithmetic mean. It is observed that if all the values in the dataset are the same, then all geometric, arithmetic and harmonic mean values are the same. If there is variability in the data, then the mean value differs. Some other measures of mean used to find the central tendency are as follows:\n",
    "- Geometric Mean\n",
    "- Harmonic Mean\n",
    "- Weighted Mean\n",
    "#### Median: Median is the middle value of the dataset in which the dataset is arranged in the ascending order or in descending order. When the dataset contains an even number of values, then the median value of the dataset can be found by taking the mean of the middle two values.\n",
    "- Consider the given dataset with the odd number of observations arranged in descending order – 23, 21, 18, 16, 15, 13, 12, 10, 9, 7, 6, 5, and 2\n",
    "    -Here 12 is the middle or median number that has 6 values above it and 6 values below it.\n",
    "- Now, consider another example with an even number of observations that are arranged in descending order – 40, 38, 35, 33, 32, 30, 29, 27, 26, 24, 23, 22, 19, and 17\n",
    "    -When you look at the given dataset, the two middle values obtained are 27 and 29. Now, find out the mean value for these two numbers. i.e.,(27+29)/2 =28. Therefore, the median for the given data distribution is 28.\n",
    "#### Mode: The mode represents the frequently occurring value in the dataset. Sometimes the dataset may contain multiple modes and in some cases, it does not contain any mode at all.\n",
    "- Consider the given dataset 5, 4, 2, 3, 2, 1, 5, 4, 5\n",
    "    -Since the mode represents the most common value. Hence, the most frequently repeated value in the given dataset is 5."
   ]
  },
  {
   "cell_type": "markdown",
   "id": "35e9bbf6-72d8-4b87-ba04-a07f4dc68994",
   "metadata": {},
   "source": [
    "## Question 3"
   ]
  },
  {
   "cell_type": "code",
   "execution_count": 3,
   "id": "a54e3d72-46a7-4a77-86d4-b4d22776b6c4",
   "metadata": {},
   "outputs": [
    {
     "name": "stdout",
     "output_type": "stream",
     "text": [
      "Mean is:  177.01875\n",
      "Median is:  177.0\n",
      "Mode is  ModeResult(mode=array([177.]), count=array([3]))\n"
     ]
    },
    {
     "name": "stderr",
     "output_type": "stream",
     "text": [
      "/tmp/ipykernel_2992/2678280244.py:13: FutureWarning: Unlike other reduction functions (e.g. `skew`, `kurtosis`), the default behavior of `mode` typically preserves the axis it acts along. In SciPy 1.11.0, this behavior will change: the default value of `keepdims` will become False, the `axis` over which the statistic is taken will be eliminated, and the value None will no longer be accepted. Set `keepdims` to True or False to avoid this warning.\n",
      "  mode = stats.mode(heights)\n"
     ]
    }
   ],
   "source": [
    "import numpy as np\n",
    "from scipy import stats\n",
    "heights = [178,177,176,177,178.2,178,175,179,180,175,178.9,176.2,177,172.5,178,176.5]\n",
    "## Mean\n",
    "mean = np.mean(heights)\n",
    "print(\"Mean is: \", mean)\n",
    "\n",
    "## Median\n",
    "median = np.median(heights)\n",
    "print(\"Median is: \", median)\n",
    "\n",
    "## Mode\n",
    "mode = stats.mode(heights)\n",
    "print(\"Mode is \", mode)"
   ]
  },
  {
   "cell_type": "markdown",
   "id": "c0f62a4a-1d0d-442e-a49f-f99c3b2a0caf",
   "metadata": {},
   "source": [
    "## Question 4"
   ]
  },
  {
   "cell_type": "markdown",
   "id": "c0d1738a-5508-4100-bf6a-bdeaf87e2366",
   "metadata": {},
   "source": [
    "### How are measures of dispersion such as range, variance, and standard deviation used to describe the spread of a dataset? Provide an example.\n",
    "#### Range: The range is the easiest dispersion of data or measure of variability. The range can measure by subtracting the lowest value from the massive Number. The wide range indicates high variability, and the small range specifies low variability in the distribution. To calculate a range, prepare all the values in ascending order, then subtract the lowest value from the highest value.\n",
    "- Range = Highest_value  – Lowest_value\n",
    "- Ex: student marks: 37, 33, 19, 25, 28 sorted marks: 19, 25, 28, 33, 37 and then range: 37-19 = 18\n",
    "#### Variance: Variance measures how far each number in the dataset from the mean. To compute variance first, calculate the mean and squared deviations from a mean. Observation near to mean value gets the lower result and far from means gets higher value. There would be two variance calculation - Population variance and Sample variance.\n",
    "#### Standard Deviation: Standard deviation is a squared root of the variance to get original values. Low standard deviation indicates data points close to mean. The normal distribution is conventional bits of help to understand the standard deviation."
   ]
  },
  {
   "cell_type": "markdown",
   "id": "817c4d8b-9d01-4472-aabd-981362556a94",
   "metadata": {},
   "source": [
    "## Question 5"
   ]
  },
  {
   "cell_type": "markdown",
   "id": "6e6fdd06-f4ce-43b0-aab1-a26f35bff83f",
   "metadata": {},
   "source": [
    "### What is a Venn diagram?\n",
    "#### A Venn diagram is an illustration that uses circles to show the relationships among things or finite groups of things. Circles that overlap have a commonality while circles that do not overlap do not share those traits. Venn diagrams help to visually represent the similarities and differences between two concepts. They have long been recognized for their usefulness as educational tools. Venn diagrams have been used as part of the introductory logic curriculum."
   ]
  },
  {
   "cell_type": "markdown",
   "id": "c1231840-22fc-466a-b989-19eb98f82494",
   "metadata": {},
   "source": [
    "## Question 7"
   ]
  },
  {
   "cell_type": "code",
   "execution_count": 6,
   "id": "ec097f3d-5be9-4b1a-8277-8e9c21e5d488",
   "metadata": {},
   "outputs": [
    {
     "name": "stdout",
     "output_type": "stream",
     "text": [
      "{2, 6}\n",
      "{0, 2, 3, 4, 5, 6, 7, 8, 10}\n"
     ]
    }
   ],
   "source": [
    "A = {2, 3, 4, 5, 6, 7}\n",
    "B = {0, 2, 6, 8, 10}\n",
    "\n",
    "A_intersection_B = A.intersection(B)\n",
    "print(A_intersection_B)\n",
    "A_union_B = A.union(B)\n",
    "print(A_union_B)"
   ]
  },
  {
   "cell_type": "markdown",
   "id": "9026981d-ebbf-406b-bdcb-dab177d265e2",
   "metadata": {},
   "source": [
    "## Question 8"
   ]
  },
  {
   "cell_type": "markdown",
   "id": "e66c7e04-d187-49d3-a98d-c6c01dd4c5c7",
   "metadata": {},
   "source": [
    "### What do you understand about skewness in data?\n",
    "#### Skewness is a measurement of the distortion of symmetrical distribution or asymmetry in a data set. Skewness is demonstrated on a bell curve when data points are not distributed symmetrically to the left and right sides of the median on a bell curve. If the bell curve is shifted to the left or the right, it is said to be skewed. Skewness can be quantified as a representation of the extent to which a given distribution varies from a normal distribution. A normal distribution has a zero skew, while a lognormal distribution, for example, would exhibit some right skew.\n",
    "#### A positively skewed distribution is the right-skewed distribution with the long tail on its right side. The value of skewness for a positively skewed distribution is greater than zero. The value of the mean is the greatest one, followed by the median and then by mode.\n",
    "#### A negatively skewed distribution is the left-skewed distribution with the long tail on its left side. The value of skewness for a negatively skewed distribution is less than zero. The measure of central tendencies is mean < median < mode."
   ]
  },
  {
   "cell_type": "markdown",
   "id": "9ae0b92a-294c-444e-a068-c2e8ec2a15b5",
   "metadata": {},
   "source": [
    "## Question 9"
   ]
  },
  {
   "cell_type": "markdown",
   "id": "771d26b2-4316-40eb-b4f6-f623f06b8136",
   "metadata": {},
   "source": [
    "###  If a data is right skewed then what will be the position of median with respect to mean?\n",
    "#### mean>median (mean would be greater than median)"
   ]
  },
  {
   "cell_type": "markdown",
   "id": "33d3af2e-8809-46b0-a741-ae4fb5f51cec",
   "metadata": {},
   "source": [
    "## Question 10"
   ]
  },
  {
   "cell_type": "markdown",
   "id": "4cae21cf-7a10-4bfe-ad4a-8a4a425367d6",
   "metadata": {},
   "source": [
    "### Explain the difference between covariance and correlation. How are these measures used in statistical analysis?\n",
    "#### Covariance and correlation are two terms that are opposed and are both used in statistics and regression analysis. Covariance shows how the two variables differ, whereas correlation shows how the two variables are related.\n",
    "####\n",
    "- Correlation is a statistical measure that describes the size and direction of a relationship between two or more variables. A correlation between variables, however, does not automatically mean that the change in one variable is the cause of the change in the values of the other variable. A positive correlation is a relationship between two variables in which both variables move in the same direction. Therefore, when one variable increases as the other variable increases or one variable decreases while the other decreases. An example of a positive correlation would be height and weight. A negetive correlation is a relationship between two variables in which two variables move in the different direction. Therefore, when one variable increases as the other variable decreases or one variable decreases while the other increases. An example of a negetive correlation would be a student who has many absences has a decrease in grades.\n",
    "- Covariance tells us the direction of the relationship between two variables, while correlation provides an indication as to how strong the relationship between the two variables is, in addition to the direction of correlated variables. Correlation values range from +1 to -1. Covariance indicates the direction of the linear relationship between variables while correlation measures both the strength and direction of the linear relationship between two variables. Correlation is a function of the covariance. For an example, covariance is used in portfolio theory to determine what assets to include in the portfolio."
   ]
  },
  {
   "cell_type": "markdown",
   "id": "b1e23379-835e-451a-8e97-84f98a660da5",
   "metadata": {},
   "source": [
    "## Question 11"
   ]
  },
  {
   "cell_type": "markdown",
   "id": "80720c10-e36e-40b8-b215-05d044f34153",
   "metadata": {},
   "source": [
    "###  What is the formula for calculating the sample mean? Provide an example calculation for a dataset.\n",
    "#### The sample mean formula is:\n",
    "```\n",
    "x-bar = ( Σ xi ) / n\n",
    "- x-bar just stands for the \"sample mean\"\n",
    "- Σ is summation notation, which means \"add up\"\n",
    "- xi \"all of the x-values\"\n",
    "- n means \"the number of items in the sample\"\n",
    "```\n",
    "#### Example: lets consider the following set of numbers: 12, 13, 14, 16, 17, 40, 43, 55, 56, 67, 78, 78, 79, 80, 81, 90, 99, 101, 102, 304, 306, 400, 401, 403, 404, 405.\n",
    "- Step 1: Add up all of the numbers: 12 + 13 + 14 + 16 + 17 + 40 + 43 + 55 + 56 + 67 + 78 + 78 + 79 + 80 + 81 + 90 + 99 + 101 + 102 + 304 + 306 + 400 + 401 + 403 + 404 + 405 = 3744.\n",
    "- Step 2: Count the numbers of items in the data set. In this particular data set there are 26 items.\n",
    "- Step 3: Divide the number found in Step 1 by the number found in Step 2. 3744/26 = 144."
   ]
  },
  {
   "cell_type": "markdown",
   "id": "6aee9da8-3901-4d72-a3d4-21067ea62827",
   "metadata": {},
   "source": [
    "## Question 12"
   ]
  },
  {
   "cell_type": "markdown",
   "id": "13243106-652e-4238-a1d9-ae64c03b3a34",
   "metadata": {},
   "source": [
    "### For a normal distribution data what is the relationship between its measure of central tendency?\n",
    "#### For a normal distribution data, the relationship between its measure of central tendency (Mean, Median, Mode) holds good. We can say equal or almost equal (Mean = Median = Mode). But most of the time its better to use the mean because it involves all the values in the distribution or dataset."
   ]
  },
  {
   "cell_type": "markdown",
   "id": "67f02d28-2460-471a-9863-2da478f185ee",
   "metadata": {},
   "source": [
    "## Question 13"
   ]
  },
  {
   "cell_type": "markdown",
   "id": "25ca3142-ae58-4d5a-97ab-6b445a08fcca",
   "metadata": {},
   "source": [
    "###  How is covariance different from correlation?\n",
    "#### Covariance and correlation are two terms that are opposed and are both used in statistics and regression analysis. Covariance shows how the two variables differ, whereas correlation shows how the two variables are related. Covariance indicates the direction of the linear relationship between variables while correlation measures both the strength and direction of the linear relationship between two variables. Correlation is a function of the covariance."
   ]
  },
  {
   "cell_type": "markdown",
   "id": "8631a7eb-c8f7-4d37-82d1-36f946d634f1",
   "metadata": {},
   "source": [
    "## Question 14"
   ]
  },
  {
   "cell_type": "markdown",
   "id": "b9758327-d2a9-4ff6-84e5-fb9ba2930554",
   "metadata": {},
   "source": [
    "### How do outliers affect measures of central tendency and dispersion? Provide an example.\n",
    "#### Outliers are numbers in a data set that are vastly larger or smaller than the other values in the set. Mean, median and mode are measures of central tendency. Mean is the only measure of central tendency that is always affected by an outlier. Mean, the average, is the most popular measure of central tendency. When a outlier is present it can effect the shape of the graph, if we have outliers to the right of the graph. These outliers are causing the mean to increase, but if we have outliers to the left of the graph these outliers are dragging down the mean. This causes a conflict because the mean no longer provides a good representation of the data, alternatively we would much rather use the median. The median on the other hand is less likely to be affect by outliers.\n",
    "#### Example: s = {1, 2, 3, 4, 5, 100 } so the mean of s would be closed to 18 where as median would be 3.5 from here we can clearly satisfy the above explanation."
   ]
  },
  {
   "cell_type": "code",
   "execution_count": null,
   "id": "c3270a9b-14b5-4b03-885b-1697cf2a9230",
   "metadata": {},
   "outputs": [],
   "source": []
  }
 ],
 "metadata": {
  "kernelspec": {
   "display_name": "Python 3 (ipykernel)",
   "language": "python",
   "name": "python3"
  },
  "language_info": {
   "codemirror_mode": {
    "name": "ipython",
    "version": 3
   },
   "file_extension": ".py",
   "mimetype": "text/x-python",
   "name": "python",
   "nbconvert_exporter": "python",
   "pygments_lexer": "ipython3",
   "version": "3.10.8"
  }
 },
 "nbformat": 4,
 "nbformat_minor": 5
}
