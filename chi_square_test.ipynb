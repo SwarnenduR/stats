{
 "cells": [
  {
   "cell_type": "code",
   "execution_count": 1,
   "id": "bd015964-1b0c-4f93-9995-a3b8e1755b43",
   "metadata": {},
   "outputs": [],
   "source": [
    "import scipy.stats as stat\n",
    "import numpy as np"
   ]
  },
  {
   "cell_type": "code",
   "execution_count": 2,
   "id": "18558d73-48b3-40c3-9c94-aff8bb767de6",
   "metadata": {},
   "outputs": [],
   "source": [
    "## No of students studies daily in a weekly basis\n",
    "\n",
    "expected_data = [8, 6, 7, 9, 6, 9, 7]\n",
    "observed_data = [7, 8, 6, 9, 9, 6, 7]"
   ]
  },
  {
   "cell_type": "code",
   "execution_count": 3,
   "id": "14666d81-4cc2-4c6e-9cb6-6af5d7eacfcb",
   "metadata": {},
   "outputs": [
    {
     "data": {
      "text/plain": [
       "52"
      ]
     },
     "execution_count": 3,
     "metadata": {},
     "output_type": "execute_result"
    }
   ],
   "source": [
    "sum(expected_data)"
   ]
  },
  {
   "cell_type": "code",
   "execution_count": 4,
   "id": "eaae129c-7901-4534-ad74-637a644d8bd0",
   "metadata": {},
   "outputs": [
    {
     "data": {
      "text/plain": [
       "52"
      ]
     },
     "execution_count": 4,
     "metadata": {},
     "output_type": "execute_result"
    }
   ],
   "source": [
    "sum(observed_data)"
   ]
  },
  {
   "cell_type": "code",
   "execution_count": 5,
   "id": "a9f8b846-5edf-47ff-9287-425d694ade00",
   "metadata": {},
   "outputs": [
    {
     "name": "stdout",
     "output_type": "stream",
     "text": [
      "3.4345238095238093\n",
      "0.7526596580922865\n"
     ]
    }
   ],
   "source": [
    "## chi square goodness of fit\n",
    "chisquare_test_statistics, p_value = stat.chisquare(observed_data, expected_data)\n",
    "print(chisquare_test_statistics)\n",
    "print(p_value)"
   ]
  },
  {
   "cell_type": "code",
   "execution_count": 7,
   "id": "7df28c7c-be48-415c-8bde-b525dd697471",
   "metadata": {},
   "outputs": [
    {
     "data": {
      "text/plain": [
       "12.591587243743977"
      ]
     },
     "execution_count": 7,
     "metadata": {},
     "output_type": "execute_result"
    }
   ],
   "source": [
    "## find the critical value\n",
    "\n",
    "significance = 0.05\n",
    "dof = len(observed_data) - 1\n",
    "critical_value = stat.chi2.ppf(1-significance, dof)\n",
    "critical_value"
   ]
  },
  {
   "cell_type": "code",
   "execution_count": 8,
   "id": "8a919701-30cb-4d46-a763-f389a4ae52e9",
   "metadata": {},
   "outputs": [
    {
     "name": "stdout",
     "output_type": "stream",
     "text": [
      "Accept the null hypothesis\n"
     ]
    }
   ],
   "source": [
    "if chisquare_test_statistics > critical_value:\n",
    "    print(\"Reject the null hypothesis\")\n",
    "else:\n",
    "    print(\"Accept the null hypothesis\")"
   ]
  },
  {
   "cell_type": "markdown",
   "id": "23896849-f479-4920-9809-d03e8175b1ac",
   "metadata": {},
   "source": [
    "## F-test"
   ]
  },
  {
   "cell_type": "code",
   "execution_count": 9,
   "id": "036a4ef4-966c-4e18-9696-c03ab8256c4c",
   "metadata": {},
   "outputs": [],
   "source": [
    "## Evidance to say that the two population variance are not equal\n",
    "## Check whether one worker is better than the other\n",
    "\n",
    "worker1 = [18, 19, 22, 25, 27, 28, 41, 45, 51, 55]\n",
    "worker2 = [14, 15, 15, 17, 18, 22, 25, 25, 27, 34]"
   ]
  },
  {
   "cell_type": "code",
   "execution_count": 10,
   "id": "03f15943-6699-4f40-a235-8c7afea1650e",
   "metadata": {},
   "outputs": [],
   "source": [
    "import numpy as np"
   ]
  },
  {
   "cell_type": "code",
   "execution_count": 11,
   "id": "74bdea07-922b-41a8-a69d-3fcde7bf627f",
   "metadata": {},
   "outputs": [
    {
     "data": {
      "text/plain": [
       "4.387122002085506"
      ]
     },
     "execution_count": 11,
     "metadata": {},
     "output_type": "execute_result"
    }
   ],
   "source": [
    "f_test = np.var(worker1)/np.var(worker2)\n",
    "f_test"
   ]
  },
  {
   "cell_type": "code",
   "execution_count": 16,
   "id": "f666cf62-fbb7-4ea6-83c4-79542a4aad19",
   "metadata": {},
   "outputs": [],
   "source": [
    "## degree of freedom\n",
    "df1 = len(worker1)-1\n",
    "df2 = len(worker2)-1\n",
    "significance_value = 0.05"
   ]
  },
  {
   "cell_type": "code",
   "execution_count": 17,
   "id": "f17802f9-c04f-4f97-9e6a-ba9d03a38c2e",
   "metadata": {},
   "outputs": [],
   "source": [
    "import scipy.stats as stat"
   ]
  },
  {
   "cell_type": "code",
   "execution_count": 19,
   "id": "315aac4b-7cb4-47a4-b08d-a50242445e04",
   "metadata": {},
   "outputs": [
    {
     "data": {
      "text/plain": [
       "3.178893104458269"
      ]
     },
     "execution_count": 19,
     "metadata": {},
     "output_type": "execute_result"
    }
   ],
   "source": [
    "critical_value = stat.f.ppf(q = 1-significance_value, dfn = df1, dfd = df2)\n",
    "critical_value"
   ]
  },
  {
   "cell_type": "code",
   "execution_count": 20,
   "id": "ef883748-9d79-469c-a7c3-80c6c859fd9e",
   "metadata": {},
   "outputs": [
    {
     "name": "stdout",
     "output_type": "stream",
     "text": [
      "Reject the null hypothesis\n"
     ]
    }
   ],
   "source": [
    "if f_test > critical_value:\n",
    "    print(\"Reject the null hypothesis\")\n",
    "else:\n",
    "    print(\"Accept the null hypothesis\")"
   ]
  },
  {
   "cell_type": "code",
   "execution_count": null,
   "id": "b0cf3136-1b88-40a0-80fb-47985d40cdfb",
   "metadata": {},
   "outputs": [],
   "source": []
  }
 ],
 "metadata": {
  "kernelspec": {
   "display_name": "Python 3 (ipykernel)",
   "language": "python",
   "name": "python3"
  },
  "language_info": {
   "codemirror_mode": {
    "name": "ipython",
    "version": 3
   },
   "file_extension": ".py",
   "mimetype": "text/x-python",
   "name": "python",
   "nbconvert_exporter": "python",
   "pygments_lexer": "ipython3",
   "version": "3.10.8"
  }
 },
 "nbformat": 4,
 "nbformat_minor": 5
}
