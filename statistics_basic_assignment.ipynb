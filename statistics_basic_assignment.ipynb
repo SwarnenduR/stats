{
 "cells": [
  {
   "cell_type": "markdown",
   "id": "c10a4d4e-c5b5-4ee7-8ca3-f8d663f6b6b1",
   "metadata": {},
   "source": [
    "## Statistics"
   ]
  },
  {
   "cell_type": "markdown",
   "id": "8a05711e-ea38-4c5e-908b-4b37d0893bd2",
   "metadata": {},
   "source": [
    "## Question 1"
   ]
  },
  {
   "cell_type": "markdown",
   "id": "1a3c32bd-8057-4a8b-bae7-bb14a33965bd",
   "metadata": {},
   "source": [
    "### What is Statistics?\n",
    "#### Statistic is the science of collecting, organizing and analysing the data where data means facts or pieces of informatioms. "
   ]
  },
  {
   "cell_type": "markdown",
   "id": "d6a092f6-5001-49f6-87ab-1bbdabec65eb",
   "metadata": {},
   "source": [
    "## Question 2"
   ]
  },
  {
   "cell_type": "markdown",
   "id": "70f6a2a5-4364-46c5-96b4-31a60d9e7fef",
   "metadata": {},
   "source": [
    "### Define the different types of statistics and give an example of when each type might be used.\n",
    "#### There are braodly two types of statistics:\n",
    "1. Descriptive Statistics: It consists of organizing and summarizing the data. Further in different ways we can measure of decriptive statistics like\n",
    "    1.Measure of central tendency (Mean, Median and Mode)\n",
    "    2.Measure of dispersion(variance and standard deviation)\n",
    "    3.Visualization charts or graphs or bars(histogram, bar charts, pie charts etc)\n",
    "- Example: Lets say what is the average height of the students in the class (We can use mean technique to measure)\n",
    "2. Inferential Statistics: It consists of using data we have measured to form conclusion. Different techniques are like Z-test, T-test, Hypothesis testing, P-value, Significance etc.\n",
    "- Example: Lets say there are 50 students in a math class in the university. We have collected the height of the students in that class. Are the average height of the students in the class simillar to what we expect in the entire university."
   ]
  },
  {
   "cell_type": "markdown",
   "id": "c872eb19-dc2c-4790-8188-5de7686293ad",
   "metadata": {},
   "source": [
    "## Question 3"
   ]
  },
  {
   "cell_type": "markdown",
   "id": "90590f26-c173-47b4-b052-7c7ed430a6aa",
   "metadata": {},
   "source": [
    "### What are the different types of data and how do they differ from each other? Provide an example of each type of data.\n",
    "#### There are multiple types of data which can be sub-categorized further and they are as follows:\n",
    "- Quantative(basically numerical data)\n",
    "    -- Discreate(whole number) - No of bank accounts, no of childreens etc.\n",
    "    -- Continuous(any number) - Height, weights etc.\n",
    "- Qualitative(basically categorical data)\n",
    "    -- Nominal(Categorical data but not ranked) - gender, colors etc.\n",
    "    -- Ordinal(categorical data and ranked also) - customer reviews for a product (good, bad, average)"
   ]
  },
  {
   "cell_type": "markdown",
   "id": "6fddd246-55d1-456c-86f4-95c14b3d8a7d",
   "metadata": {},
   "source": [
    "## Question 4"
   ]
  },
  {
   "cell_type": "markdown",
   "id": "38e32d46-f1ec-4ec1-8aee-cf165f551fea",
   "metadata": {},
   "source": [
    "### Categorise the following datasets with respect to quantitative and qualitative data types:\n",
    "#### (i) Grading in exam: A+, A, B+, B, C+, C, D, E - ordinal qualitative\n",
    "#### (ii) Colour of mangoes: yellow, green, orange, red - nominal qualitative\n",
    "#### (iii) Height data of a class: [178.9, 179, 179.5, 176, 177.2, 178.3, 175.8,...] - continuous quantitative\n",
    "#### (iv) Number of mangoes exported by a farm: [500, 600, 478, 672, ...] - discreate quantitative"
   ]
  },
  {
   "cell_type": "markdown",
   "id": "ce009c97-5ae0-4fd3-8867-80211e70eeb9",
   "metadata": {},
   "source": [
    "## Question 5"
   ]
  },
  {
   "cell_type": "markdown",
   "id": "d8c421af-22b5-4318-94b2-367012fa70e0",
   "metadata": {},
   "source": [
    "### Explain the concept of levels of measurement and give an example of a variable for each level.\n",
    "#### Scale of measurement of data\n",
    "- Nominal scale data(qualitative/categorical variable and order doesn't matter) - gender, colors etc.\n",
    "- Ordinal scale data(Rank and order matter but difference cannot be measured) - Qualification of a person (PHD, Master, Graduation)\n",
    "- Interval scale data(Rank and order matter and difference can be measured - excluding ratio and doesn't have \"0\" starting value) - Temparature\n",
    "- Ration scale data(Rank and order matter, ratio and difference can be measured and it does have \"0\" starting value) - students grade."
   ]
  },
  {
   "cell_type": "markdown",
   "id": "60cd0b90-e82b-4cf6-92f7-43ef7464aa25",
   "metadata": {},
   "source": [
    "## Question 6"
   ]
  },
  {
   "cell_type": "markdown",
   "id": "a5066d8c-5ee6-4f18-ac91-976c8d45de82",
   "metadata": {},
   "source": [
    "### Why is it important to understand the level of measurement when analyzing data? Provide an example to illustrate your answer.\n",
    "#### It is important to understand the level of measurement of variables in research, because the level of measurement determines the type of statistical analysis that can be conducted, and, therefore, the type of conclusions that can be drawn from the research.\n",
    " - An example of an interval variable would be temperature. We can correctly assume that the difference between 70 and 80 degrees is the same as the difference between 80 and 90 degrees. However, the mathematical operations of multiplication and division do not apply to interval variables. For instance, we cannot accurately say that 100 degrees is twice as hot as 50 degrees. Additionally, interval variables often do not have a meaningful zero-point. For example, a temperature of zero degrees (on Celsius and Fahrenheit scales) does not mean a complete absence of heat."
   ]
  },
  {
   "cell_type": "markdown",
   "id": "2586f76a-a16b-4406-b65e-380324525f96",
   "metadata": {},
   "source": [
    "## Question 7"
   ]
  },
  {
   "cell_type": "markdown",
   "id": "3d671d55-942a-4a72-9e0d-65c8b781d0d2",
   "metadata": {},
   "source": [
    "### How nominal data type is different from ordinal data type.\n",
    "####\n",
    "- Nominal data is a group of non-parametric variables, whereas Ordinal data is a group of non-parametric ordered variables.\n",
    "- Ordinal data is analyzed by mode, median, quartiles, and percentile, whereas nominal data is analyzed by grouping variables into categories and calculating the distribution mode.\n",
    "- Nominal data are categorical, whereas Ordinal data are both categorical and quantitative.\n",
    "- Both nominal and ordinal data can be analyzed using percentage and mode."
   ]
  },
  {
   "cell_type": "markdown",
   "id": "0d3b1236-c3e3-44fa-a625-5ab3a0f6bac7",
   "metadata": {},
   "source": [
    "## Question 8"
   ]
  },
  {
   "cell_type": "markdown",
   "id": "0a4a3f26-a9d0-4206-954b-f82975fca90a",
   "metadata": {},
   "source": [
    "### Which type of plot can be used to display data in terms of range?\n",
    "#### A box and whisker plot can be used to display data in terms of range and we can also go with line graph."
   ]
  },
  {
   "cell_type": "markdown",
   "id": "b42fc813-996d-4497-a808-ffc38d0c106a",
   "metadata": {},
   "source": [
    "## Question 9"
   ]
  },
  {
   "cell_type": "markdown",
   "id": "610de561-bfa9-48ac-bb77-0ab5a021e792",
   "metadata": {},
   "source": [
    "### Describe the difference between descriptive and inferential statistics. Give an example of each type of statistics and explain how they are used.\n",
    "####\n",
    "1. Descriptive Statistics: It consists of organizing and summarizing the data. Further in different ways we can measure of decriptive statistics like\n",
    "    1.Measure of central tendency (Mean, Median and Mode)\n",
    "    2.Measure of dispersion(variance and standard deviation)\n",
    "    3.Visualization charts or graphs or bars(histogram, bar charts, pie charts etc)\n",
    "- Example: Lets say what is the average height of the students in the class (We can use mean technique to measure)\n",
    "2. Inferential Statistics: It consists of using data we have measured to form conclusion. Different techniques are like Z-test, T-test, Hypothesis testing, P-value, Significance etc.\n",
    "- Example: Lets say there are 50 students in a math class in the university. We have collected the height of the students in that class. Are the average height of the students in the class simillar to what we expect in the entire university."
   ]
  },
  {
   "cell_type": "markdown",
   "id": "4d3db365-24c0-4261-a3ad-30358874b01e",
   "metadata": {},
   "source": [
    "## Question 10"
   ]
  },
  {
   "cell_type": "markdown",
   "id": "d6454e1e-36d9-4ce0-972b-41f581ff5ca5",
   "metadata": {},
   "source": [
    "### What are some common measures of central tendency and variability used in statistics? Explain how each measure can be used to describe a dataset.\n",
    "#### The most common measure of central tendencies are - Mean, Median and Mode\n",
    "#### Mean: The mean represents the average value of the dataset. It can be calculated as the sum of all the values in the dataset divided by the number of values. In general, it is considered as the arithmetic mean. It is observed that if all the values in the dataset are the same, then all geometric, arithmetic and harmonic mean values are the same. If there is variability in the data, then the mean value differs. Some other measures of mean used to find the central tendency are as follows:\n",
    "- Geometric Mean\n",
    "- Harmonic Mean\n",
    "- Weighted Mean\n",
    "#### Median: Median is the middle value of the dataset in which the dataset is arranged in the ascending order or in descending order. When the dataset contains an even number of values, then the median value of the dataset can be found by taking the mean of the middle two values.\n",
    "- Consider the given dataset with the odd number of observations arranged in descending order – 23, 21, 18, 16, 15, 13, 12, 10, 9, 7, 6, 5, and 2\n",
    "    -Here 12 is the middle or median number that has 6 values above it and 6 values below it.\n",
    "- Now, consider another example with an even number of observations that are arranged in descending order – 40, 38, 35, 33, 32, 30, 29, 27, 26, 24, 23, 22, 19, and 17\n",
    "    -When you look at the given dataset, the two middle values obtained are 27 and 29. Now, find out the mean value for these two numbers. i.e.,(27+29)/2 =28. Therefore, the median for the given data distribution is 28.\n",
    "#### Mode: The mode represents the frequently occurring value in the dataset. Sometimes the dataset may contain multiple modes and in some cases, it does not contain any mode at all.\n",
    "- Consider the given dataset 5, 4, 2, 3, 2, 1, 5, 4, 5\n",
    "    -Since the mode represents the most common value. Hence, the most frequently repeated value in the given dataset is 5.\n",
    "#### Based on the properties of the data, the measures of central tendency are selected.\n",
    "- If we have a symmetrical distribution of continuous data, all the three measures of central tendency hold good. But most of the times, the analyst uses the mean because it involves all the values in the distribution or dataset.\n",
    "- If we have skewed distribution, the best measure of finding the central tendency is the median.\n",
    "- If we have the original data, then both the median and mode are the best choice of measuring the central tendency.\n",
    "- If we have categorical data, the mode is the best choice to find the central tendency."
   ]
  },
  {
   "cell_type": "code",
   "execution_count": null,
   "id": "afe25223-795b-4573-9414-837820f282e0",
   "metadata": {},
   "outputs": [],
   "source": []
  }
 ],
 "metadata": {
  "kernelspec": {
   "display_name": "Python 3 (ipykernel)",
   "language": "python",
   "name": "python3"
  },
  "language_info": {
   "codemirror_mode": {
    "name": "ipython",
    "version": 3
   },
   "file_extension": ".py",
   "mimetype": "text/x-python",
   "name": "python",
   "nbconvert_exporter": "python",
   "pygments_lexer": "ipython3",
   "version": "3.10.8"
  }
 },
 "nbformat": 4,
 "nbformat_minor": 5
}
